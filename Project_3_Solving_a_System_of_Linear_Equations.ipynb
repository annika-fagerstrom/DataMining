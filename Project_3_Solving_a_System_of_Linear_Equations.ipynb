{
  "nbformat": 4,
  "nbformat_minor": 0,
  "metadata": {
    "kernelspec": {
      "display_name": "Python 3",
      "language": "python",
      "name": "python3"
    },
    "language_info": {
      "codemirror_mode": {
        "name": "ipython",
        "version": 3
      },
      "file_extension": ".py",
      "mimetype": "text/x-python",
      "name": "python",
      "nbconvert_exporter": "python",
      "pygments_lexer": "ipython3",
      "version": "3.7.4"
    },
    "colab": {
      "name": "Project 3 - Solving a System of Linear Equations.ipynb",
      "provenance": [],
      "include_colab_link": true
    }
  },
  "cells": [
    {
      "cell_type": "markdown",
      "metadata": {
        "id": "view-in-github",
        "colab_type": "text"
      },
      "source": [
        "<a href=\"https://colab.research.google.com/github/annika-fagerstrom/DataMining/blob/main/Project_3_Solving_a_System_of_Linear_Equations.ipynb\" target=\"_parent\"><img src=\"https://colab.research.google.com/assets/colab-badge.svg\" alt=\"Open In Colab\"/></a>"
      ]
    },
    {
      "cell_type": "markdown",
      "metadata": {
        "id": "UzIkbZueR6VF"
      },
      "source": [
        "\n",
        "\n",
        "\n",
        "# Team Project 3 - Solving a System of Linear Equations\n",
        "\n",
        "In this project, we compare the performance of three different methods of solving a system of linear equations. The lesson that I hope you may get is that finding an efficient method is not an unneccessary complication.\n",
        "\n",
        "For this project, <b>DO NOT</b> use the 'solve' method in the linear algebra package! You have to make your own code for it. "
      ]
    },
    {
      "cell_type": "markdown",
      "metadata": {
        "id": "FZ84P8MYR6Vf"
      },
      "source": [
        "#### 1. (10 pts) Create a function randmat(n) which returns a random square matrix constructed as the following recipe. \n",
        "<ul>\n",
        "    <li>The size of the matrix is $n \\times n$.</li>\n",
        "    <li>Each off-diagonal entry ($a_{ij}$ where $i \\ne j$) is a random number in $[0, 1)$. A random number can be constructed by the random method (see <a href=\"https://docs.scipy.org/doc/numpy/reference/routines.random.html\">here</a>).</li>\n",
        "    <li>A diagonal entry $a_{ii}$ is a random number in $[n, n+1)$. (This condition guarantees that the matrix $(a_{ij})$ is strictly diagonally dominant, hence invertible.)</li>\n",
        "</ul>\n",
        "\n",
        "#### And create a function randvec(n) which returns an $n$-dimensional random vector whose entries are random numbers in $[0, 100)$. "
      ]
    },
    {
      "cell_type": "code",
      "metadata": {
        "id": "6TOEmal2R6Vi"
      },
      "source": [
        "import random\n",
        "import numpy as np "
      ],
      "execution_count": null,
      "outputs": []
    },
    {
      "cell_type": "markdown",
      "metadata": {
        "id": "q-wZppJ3R6Vl"
      },
      "source": [
        "#### 2. (10 pts) Create a function GaussElim(A, b) which solves a system of linear equations $Ax = b$ by using Gaussian Elimination with the partial pivoting."
      ]
    },
    {
      "cell_type": "code",
      "metadata": {
        "id": "0Hp3JrGfR6Vn",
        "colab": {
          "base_uri": "https://localhost:8080/"
        },
        "outputId": "cff210cb-34e8-4f0c-dec4-96b9bb82cfd3"
      },
      "source": [
        "def Jacobi(A, b, err):\n",
        "  \"\"\"\n",
        "  This function attempts to perform the Jacobi method for solving systems of\n",
        "  linear equations. \n",
        "  \n",
        "  Inputs: \n",
        "  - A (Numpy matrix)\n",
        "  - b (Numpy array)\n",
        "  - err (float)\n",
        "\n",
        "  Output: \n",
        "  - x (Numpy array)\n",
        "\n",
        "  \"\"\"\n",
        "\n",
        "  num_rows = (A.shape)[0]\n",
        "  num_cols = (A.shape)[1]\n",
        "\n",
        "  error = 1e10\n",
        "\n",
        "  #initialize the list\n",
        "  x_list = [[1 for i in range(num_rows)]]\n",
        "\n",
        "  #at most, the process will last 1000 iterations\n",
        "  for k in range(1000):\n",
        "    x_vec = []\n",
        "\n",
        "    #implement the Jacobi formula once for each row of the matrix\n",
        "    for i in range(num_rows):  \n",
        "      x_i = float(b[i]) \n",
        "      for j in range(num_cols):\n",
        "        if i != j:\n",
        "          #rhs_terms = (-1)*(A[i][j])*()\n",
        "          x_i += float((-1)*(A[i][j])*(x_list[k][j]))\n",
        "      x_i = x_i / (A[i][i])\n",
        "      print('i is ',i,'and the vectors are',x_i)\n",
        "      print('--')\n",
        "\n",
        "      #append the vec. component approx. to the list\n",
        "      x_vec.append(x_i)\n",
        "\n",
        "    x_list.append(x_vec)\n",
        "\n",
        "\n",
        "    #compute the distance between two most recent approximations\n",
        "    error_vec = [ abs(x_list[-1][i] - x_list[-2][i]) for i in range(num_rows)]\n",
        "    error = max(error_vec)\n",
        "    if error <= err:\n",
        "      break\n",
        "  \n",
        "  #when the iteration finishes, report the solution vector as a list\n",
        "  x_tilde = x_list[-1]\n",
        "\n",
        "  return np.array(x_tilde)\n",
        "\n",
        "\n",
        "#test the function\n",
        "A =  np.array(\n",
        "    [[4,2,1],\n",
        "     [0,3,2],\n",
        "     [1,1,4]])\n",
        "b = np.array([1,2,3])\n",
        "\n",
        "x = Jacobi(A, b, 1e-6)\n",
        "print(x)"
      ],
      "execution_count": null,
      "outputs": [
        {
          "output_type": "stream",
          "text": [
            "i is  0 and the vectors are -0.5\n",
            "--\n",
            "i is  1 and the vectors are 0.0\n",
            "--\n",
            "i is  2 and the vectors are 0.25\n",
            "--\n",
            "i is  0 and the vectors are 0.1875\n",
            "--\n",
            "i is  1 and the vectors are 0.5\n",
            "--\n",
            "i is  2 and the vectors are 0.875\n",
            "--\n",
            "i is  0 and the vectors are -0.21875\n",
            "--\n",
            "i is  1 and the vectors are 0.08333333333333333\n",
            "--\n",
            "i is  2 and the vectors are 0.578125\n",
            "--\n",
            "i is  0 and the vectors are 0.06380208333333334\n",
            "--\n",
            "i is  1 and the vectors are 0.28125\n",
            "--\n",
            "i is  2 and the vectors are 0.7838541666666666\n",
            "--\n",
            "i is  0 and the vectors are -0.08658854166666666\n",
            "--\n",
            "i is  1 and the vectors are 0.14409722222222224\n",
            "--\n",
            "i is  2 and the vectors are 0.6637369791666666\n",
            "--\n",
            "i is  0 and the vectors are 0.012017144097222238\n",
            "--\n",
            "i is  1 and the vectors are 0.22417534722222224\n",
            "--\n",
            "i is  2 and the vectors are 0.735622829861111\n",
            "--\n",
            "i is  0 and the vectors are -0.04599338107638887\n",
            "--\n",
            "i is  1 and the vectors are 0.1762514467592593\n",
            "--\n",
            "i is  2 and the vectors are 0.6909518771701388\n",
            "--\n",
            "i is  0 and the vectors are -0.01086369267216436\n",
            "--\n",
            "i is  1 and the vectors are 0.2060320818865741\n",
            "--\n",
            "i is  2 and the vectors are 0.7174354835792824\n",
            "--\n",
            "i is  0 and the vectors are -0.032374911838107645\n",
            "--\n",
            "i is  1 and the vectors are 0.18837634428047836\n",
            "--\n",
            "i is  2 and the vectors are 0.7012079026963977\n",
            "--\n",
            "i is  0 and the vectors are -0.019490147814338582\n",
            "--\n",
            "i is  1 and the vectors are 0.1991947315357349\n",
            "--\n",
            "i is  2 and the vectors are 0.7109996418894073\n",
            "--\n",
            "i is  0 and the vectors are -0.027347276240219265\n",
            "--\n",
            "i is  1 and the vectors are 0.19266690540706177\n",
            "--\n",
            "i is  2 and the vectors are 0.705073854069651\n",
            "--\n",
            "i is  0 and the vectors are -0.022601916220943624\n",
            "--\n",
            "i is  1 and the vectors are 0.1966174306202327\n",
            "--\n",
            "i is  2 and the vectors are 0.7086700927082894\n",
            "--\n",
            "i is  0 and the vectors are -0.025476238487188718\n",
            "--\n",
            "i is  1 and the vectors are 0.19421993819447372\n",
            "--\n",
            "i is  2 and the vectors are 0.7064961214001777\n",
            "--\n",
            "i is  0 and the vectors are -0.023733999447281273\n",
            "--\n",
            "i is  1 and the vectors are 0.19566925239988153\n",
            "--\n",
            "i is  2 and the vectors are 0.7078140750731787\n",
            "--\n",
            "i is  0 and the vectors are -0.024788144968235448\n",
            "--\n",
            "i is  1 and the vectors are 0.19479061661788086\n",
            "--\n",
            "i is  2 and the vectors are 0.70701618676185\n",
            "--\n",
            "i is  0 and the vectors are -0.024149354999402933\n",
            "--\n",
            "i is  1 and the vectors are 0.19532254215876668\n",
            "--\n",
            "i is  2 and the vectors are 0.7074993820875887\n",
            "--\n",
            "i is  0 and the vectors are -0.024536116601280494\n",
            "--\n",
            "i is  1 and the vectors are 0.19500041194160755\n",
            "--\n",
            "i is  2 and the vectors are 0.707206703210159\n",
            "--\n",
            "i is  0 and the vectors are -0.024301881773343526\n",
            "--\n",
            "i is  1 and the vectors are 0.19519553119322733\n",
            "--\n",
            "i is  2 and the vectors are 0.7073839261649182\n",
            "--\n",
            "i is  0 and the vectors are -0.024443747137843197\n",
            "--\n",
            "i is  1 and the vectors are 0.19507738255672122\n",
            "--\n",
            "i is  2 and the vectors are 0.7072765876450291\n",
            "--\n",
            "i is  0 and the vectors are -0.024357838189617897\n",
            "--\n",
            "i is  1 and the vectors are 0.1951489415699806\n",
            "--\n",
            "i is  2 and the vectors are 0.7073415911452805\n",
            "--\n",
            "i is  0 and the vectors are -0.024409868571310445\n",
            "--\n",
            "i is  1 and the vectors are 0.19510560590314632\n",
            "--\n",
            "i is  2 and the vectors are 0.7073022241549093\n",
            "--\n",
            "i is  0 and the vectors are -0.02437835899030047\n",
            "--\n",
            "i is  1 and the vectors are 0.1951318505633938\n",
            "--\n",
            "i is  2 and the vectors are 0.707326065667041\n",
            "--\n",
            "i is  0 and the vectors are -0.024397441698457145\n",
            "--\n",
            "i is  1 and the vectors are 0.19511595622197264\n",
            "--\n",
            "i is  2 and the vectors are 0.7073116271067267\n",
            "--\n",
            "i is  0 and the vectors are -0.02438588488766799\n",
            "--\n",
            "i is  1 and the vectors are 0.19512558192884888\n",
            "--\n",
            "i is  2 and the vectors are 0.7073203713691211\n",
            "--\n",
            "i is  0 and the vectors are -0.024392883806704707\n",
            "--\n",
            "i is  1 and the vectors are 0.19511975242058596\n",
            "--\n",
            "i is  2 and the vectors are 0.7073150757397049\n",
            "--\n",
            "i is  0 and the vectors are -0.024388645145219212\n",
            "--\n",
            "i is  1 and the vectors are 0.19512328284019675\n",
            "--\n",
            "i is  2 and the vectors are 0.7073182828465298\n",
            "--\n",
            "i is  0 and the vectors are -0.024391212131730816\n",
            "--\n",
            "i is  1 and the vectors are 0.19512114476898015\n",
            "--\n",
            "i is  2 and the vectors are 0.7073163405762556\n",
            "--\n",
            "i is  0 and the vectors are -0.02438965752855396\n",
            "--\n",
            "i is  1 and the vectors are 0.19512243961582962\n",
            "--\n",
            "i is  2 and the vectors are 0.7073175168406877\n",
            "--\n",
            "i is  0 and the vectors are -0.02439059901808674\n",
            "--\n",
            "i is  1 and the vectors are 0.19512165543954155\n",
            "--\n",
            "i is  2 and the vectors are 0.7073168044781811\n",
            "--\n",
            "[-0.0243906   0.19512166  0.7073168 ]\n"
          ],
          "name": "stdout"
        }
      ]
    },
    {
      "cell_type": "markdown",
      "metadata": {
        "id": "MaRyaqlxR6Vo"
      },
      "source": [
        "#### 3. (10 pts) Create a function Jacobi(A, b, err) which solves a system of linear equations $Ax = b$ by using Jacobi interation method. Set $x^{(0)} = \\vec{0}$. We stop the iteration when the estimation of the error $||x^{(k)} - x^{(k-1)}||_\\infty$ is less than err or $k = 1000$. (Here $x^{(k)}$ is the $k$-th output of the iteration)."
      ]
    },
    {
      "cell_type": "code",
      "metadata": {
        "id": "rFu2NGJGR6Vq"
      },
      "source": [
        ""
      ],
      "execution_count": null,
      "outputs": []
    },
    {
      "cell_type": "markdown",
      "metadata": {
        "id": "H7TfO3jMR6Vr"
      },
      "source": [
        "#### 4. (10 pts) Create a function GaussSeidel(A, b, err) which solves a system of linear equations $Ax = b$ by using Gauss-Seidel interation method. Set $x^{(0)} = \\vec{0}$. We stop the iteration when the estimation of the error $||x^{(k)} - x^{(k-1)}||_\\infty$ is less than err or $k = 1000$. (Here $x^{(k)}$ is the $k$-th output of the iteration)."
      ]
    },
    {
      "cell_type": "code",
      "metadata": {
        "id": "xspgCeuwR6Vs"
      },
      "source": [
        ""
      ],
      "execution_count": null,
      "outputs": []
    },
    {
      "cell_type": "markdown",
      "metadata": {
        "id": "Wh48Zn3cR6Vu"
      },
      "source": [
        "#### 5. (10 pts) For $n = 100, 200, 300, \\cdots , 1000$, create a random $n \\times n$ matrix $A$ and a random $n$-dimensional vector $b$. Solve the system of linear equations $Ax = b$ by using GaussElim(A, b), Jacobi(A, b, err), and GaussSeidel(A, b, err). Use $10^{-6}$ for the error tolerance. Record the excution time for each method. Plot the graph of the excution time for those three methods on the same plane.\n",
        "\n",
        "For the computation of the excution time, you may use the following method:"
      ]
    },
    {
      "cell_type": "code",
      "metadata": {
        "id": "l0wtP_hNR6Vv"
      },
      "source": [
        "import time\n",
        "\n",
        "start = time.time()\n",
        "\"the code you want to test stays here\"\n",
        "end = time.time()\n",
        "\n",
        "print(end - start)"
      ],
      "execution_count": null,
      "outputs": []
    },
    {
      "cell_type": "code",
      "metadata": {
        "id": "Y9XUVbT-R6Vw"
      },
      "source": [
        ""
      ],
      "execution_count": null,
      "outputs": []
    },
    {
      "cell_type": "markdown",
      "metadata": {
        "id": "TB3W_vZRR6Vx"
      },
      "source": [
        "If you are interested in, then you can make a code using the \"theoretically simplest method\". For $Ax = b$, $x = A^{-1}b$. By using Gauss Elimination, you may compute $A^{-1}$ and then compute $A^{-1}b$. Recall that one can compute $A^{-1}$ as the following:\n",
        "<ul>\n",
        "    <li>Make an augmented matrix $[A | I]$ where $I$ is the $n \\times n$ identity matrix.</li>\n",
        "    <li>Apply elementary row operations until the left half $A$ on $[A| I]$ becomes $I$.</li>\n",
        "    <li>Then the right half of the augmented matrix is $A^{-1}$.</li>\n",
        "</ul>\n",
        "Compare the performance of this method with above three methods."
      ]
    },
    {
      "cell_type": "code",
      "metadata": {
        "id": "6CijR72HR6Vy"
      },
      "source": [
        ""
      ],
      "execution_count": null,
      "outputs": []
    },
    {
      "cell_type": "code",
      "metadata": {
        "colab": {
          "base_uri": "https://localhost:8080/"
        },
        "id": "sDyGshEu2MXg",
        "outputId": "f9abce56-762a-413e-b6ea-23b1276216d0"
      },
      "source": [
        "w_0 = -4\n",
        "y_0 = -4\n",
        "t_0 = 1\n",
        "h = 0.1\n",
        "\n",
        "for i in range (100):\n",
        "  w_1 = w_0 + h*(1+y_0*y_0 + t_0*t_0*t_0)\n",
        "  w_0 = w_1\n",
        "  print(w_1)\n",
        "print(w_1)"
      ],
      "execution_count": null,
      "outputs": [
        {
          "output_type": "stream",
          "text": [
            "-2.2\n",
            "-0.40000000000000013\n",
            "1.4\n",
            "3.2\n",
            "5.0\n",
            "6.8\n",
            "8.6\n",
            "10.4\n",
            "12.200000000000001\n",
            "14.000000000000002\n",
            "15.800000000000002\n",
            "17.6\n",
            "19.400000000000002\n",
            "21.200000000000003\n",
            "23.000000000000004\n",
            "24.800000000000004\n",
            "26.600000000000005\n",
            "28.400000000000006\n",
            "30.200000000000006\n",
            "32.00000000000001\n",
            "33.800000000000004\n",
            "35.6\n",
            "37.4\n",
            "39.199999999999996\n",
            "40.99999999999999\n",
            "42.79999999999999\n",
            "44.59999999999999\n",
            "46.399999999999984\n",
            "48.19999999999998\n",
            "49.99999999999998\n",
            "51.799999999999976\n",
            "53.59999999999997\n",
            "55.39999999999997\n",
            "57.19999999999997\n",
            "58.999999999999964\n",
            "60.79999999999996\n",
            "62.59999999999996\n",
            "64.39999999999996\n",
            "66.19999999999996\n",
            "67.99999999999996\n",
            "69.79999999999995\n",
            "71.59999999999995\n",
            "73.39999999999995\n",
            "75.19999999999995\n",
            "76.99999999999994\n",
            "78.79999999999994\n",
            "80.59999999999994\n",
            "82.39999999999993\n",
            "84.19999999999993\n",
            "85.99999999999993\n",
            "87.79999999999993\n",
            "89.59999999999992\n",
            "91.39999999999992\n",
            "93.19999999999992\n",
            "94.99999999999991\n",
            "96.79999999999991\n",
            "98.59999999999991\n",
            "100.3999999999999\n",
            "102.1999999999999\n",
            "103.9999999999999\n",
            "105.7999999999999\n",
            "107.5999999999999\n",
            "109.39999999999989\n",
            "111.19999999999989\n",
            "112.99999999999989\n",
            "114.79999999999988\n",
            "116.59999999999988\n",
            "118.39999999999988\n",
            "120.19999999999987\n",
            "121.99999999999987\n",
            "123.79999999999987\n",
            "125.59999999999987\n",
            "127.39999999999986\n",
            "129.19999999999987\n",
            "130.9999999999999\n",
            "132.7999999999999\n",
            "134.5999999999999\n",
            "136.39999999999992\n",
            "138.19999999999993\n",
            "139.99999999999994\n",
            "141.79999999999995\n",
            "143.59999999999997\n",
            "145.39999999999998\n",
            "147.2\n",
            "149.0\n",
            "150.8\n",
            "152.60000000000002\n",
            "154.40000000000003\n",
            "156.20000000000005\n",
            "158.00000000000006\n",
            "159.80000000000007\n",
            "161.60000000000008\n",
            "163.4000000000001\n",
            "165.2000000000001\n",
            "167.0000000000001\n",
            "168.80000000000013\n",
            "170.60000000000014\n",
            "172.40000000000015\n",
            "174.20000000000016\n",
            "176.00000000000017\n",
            "176.00000000000017\n"
          ],
          "name": "stdout"
        }
      ]
    },
    {
      "cell_type": "code",
      "metadata": {
        "id": "L1gEhpF03AlM"
      },
      "source": [
        ""
      ],
      "execution_count": null,
      "outputs": []
    }
  ]
}